{
  "nbformat": 4,
  "nbformat_minor": 0,
  "metadata": {
    "colab": {
      "name": "BlackOuT",
      "provenance": [],
      "authorship_tag": "ABX9TyPWMlUD/JXp4q8ST9UVJuhf",
      "include_colab_link": true
    },
    "kernelspec": {
      "display_name": "Python 3",
      "name": "python3"
    },
    "language_info": {
      "name": "python"
    }
  },
  "cells": [
    {
      "cell_type": "markdown",
      "metadata": {
        "id": "view-in-github",
        "colab_type": "text"
      },
      "source": [
        "<a href=\"https://colab.research.google.com/github.com/Sachin79/tx/blob/main/BlackOuT.ipynb\" target=\"_parent\"><img src=\"https://colab.research.google.com/assets/colab-badge.svg\" alt=\"Open In Colab\"/></a>"
      ]
    },
    {
      "cell_type": "code",
      "metadata": {
        "cellView": "form",
        "id": "EBqWM-x61KSn"
      },
      "source": [
        "#@title <<----<strong> Auto Reconnect\n",
        "%%capture\n",
        "import IPython\n",
        "from google.colab import output\n",
        "\n",
        "display(IPython.display.Javascript('''\n",
        "function ClickConnect(){\n",
        "  btn = document.querySelector(\"colab-connect-button\")\n",
        "  if (btn != null){\n",
        "    console.log(\"Click colab-connect-button\"); \n",
        "    btn.click() \n",
        "    }\n",
        "  \n",
        "  btn = document.getElementById('ok')\n",
        "  if (btn != null){\n",
        "    console.log(\"Click reconnect\"); \n",
        "    btn.click() \n",
        "    }\n",
        "  }\n",
        "  \n",
        "setInterval(ClickConnect,60000)\n",
        "'''))"
      ],
      "execution_count": null,
      "outputs": []
    },
    {
      "cell_type": "code",
      "metadata": {
        "id": "G7-1QZEdQXCT"
      },
      "source": [
        "!apt install ffmpeg aria2\n",
        "!git clone https://github.com/Sachin79/tx\n",
        "%cd tx"
      ],
      "execution_count": null,
      "outputs": []
    },
    {
      "cell_type": "code",
      "metadata": {
        "id": "UQhZ5LqSRIA2"
      },
      "source": [
        "!pip3 install -U pip\n",
        "!pip3 install -r ./requirements.txt"
      ],
      "execution_count": null,
      "outputs": []
    },
    {
      "cell_type": "code",
      "metadata": {
        "id": "Owqe0tPxUJbM"
      },
      "source": [
        "%env API_ID=20544260 \n",
        "# Get from https://my.telegram.org/apps\n",
        "%env API_HASH=a0b00461d3fba22aa186fa648d77787e\n",
        "# Get from https://my.telegram.org/apps\n",
        "%env BOT_TOKEN=6768420785:AAFqlFpxDVOS4M761pIAzrls_2pUK5jfOQQ\n",
        "# Get from https://t.me/BotFather\n"
      ],
      "execution_count": null,
      "outputs": []
    },
    {
      "cell_type": "code",
      "metadata": {
        "colab": {
          "background_save": true
        },
        "id": "k2ARB3FQQyI-"
      },
      "source": [
        "!python3 main.py"
      ],
      "execution_count": null,
      "outputs": []
    }
  ]
}
